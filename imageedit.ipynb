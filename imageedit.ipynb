{
 "cells": [
  {
   "cell_type": "code",
   "execution_count": 1,
   "metadata": {},
   "outputs": [],
   "source": [
    "from PIL import Image, ImageEnhance, ExifTags\n",
    "from PIL.ExifTags import TAGS\n",
    "\n",
    "import numpy as np\n",
    "import matplotlib.pyplot as plt\n",
    "\n",
    "import re\n",
    "import os\n",
    "from os import walk\n",
    "import math\n",
    "import time"
   ]
  },
  {
   "cell_type": "code",
   "execution_count": 22,
   "metadata": {},
   "outputs": [],
   "source": [
    "wd = os.getcwd()\n",
    "\n",
    "fnames = []\n",
    "images = []\n",
    "\n",
    "for (dirpath, dirnames, filenames) in walk(wd):  \n",
    "    fnames.append(dirnames)\n",
    "    fnames.append(filenames)\n",
    "\n",
    "for file in fnames[-1]:\n",
    "    images.append(Image.open(fnames[0][-1] + \"/\" + file))\n",
    "\n",
    "\n",
    "\n",
    "    \n",
    "img = Image.open(\"images/exp0.jpg\")\n",
    "# img1 = Image.open(\"images/GDSC_0839.jpg\")\n",
    "# img2 = Image.open(\"images/DSC_0793_edited.jpg\")\n",
    "# imgbw = Image.open(\"images/DSC_0659.jpg\")\n",
    "# imgblack = Image.open(\"images/DSC_0016.jpg\")\n",
    "# imgwhite = Image.open(\"images/DSC_0017.jpg\")\n",
    "# imgmix = Image.open(\"images/DSC_0018.jpg\")\n"
   ]
  },
  {
   "cell_type": "code",
   "execution_count": 98,
   "metadata": {},
   "outputs": [
    {
     "name": "stdout",
     "output_type": "stream",
     "text": [
      "[[[ 73  78 118]\n",
      "  [ 70  75 115]\n",
      "  [ 68  76 115]\n",
      "  ...\n",
      "  [ 87  58  44]\n",
      "  [ 90  58  47]\n",
      "  [ 89  57  46]]\n",
      "\n",
      " [[ 68  76 113]\n",
      "  [ 68  76 113]\n",
      "  [ 69  77 114]\n",
      "  ...\n",
      "  [ 91  58  49]\n",
      "  [ 92  58  49]\n",
      "  [ 90  56  47]]\n",
      "\n",
      " [[ 69  74 114]\n",
      "  [ 71  76 116]\n",
      "  [ 68  76 113]\n",
      "  ...\n",
      "  [ 90  57  48]\n",
      "  [ 90  58  47]\n",
      "  [ 89  57  46]]\n",
      "\n",
      " ...\n",
      "\n",
      " [[ 49  34  31]\n",
      "  [ 48  33  30]\n",
      "  [ 47  33  32]\n",
      "  ...\n",
      "  [202 121  78]\n",
      "  [201 120  77]\n",
      "  [201 118  76]]\n",
      "\n",
      " [[ 49  35  34]\n",
      "  [ 49  35  34]\n",
      "  [ 46  32  29]\n",
      "  ...\n",
      "  [204 121  79]\n",
      "  [202 119  77]\n",
      "  [203 118  77]]\n",
      "\n",
      " [[ 49  33  33]\n",
      "  [ 48  32  32]\n",
      "  [ 45  33  33]\n",
      "  ...\n",
      "  [203 120  78]\n",
      "  [204 119  80]\n",
      "  [203 118  79]]]\n"
     ]
    }
   ],
   "source": [
    "imgarr = np.asarray(img)\n",
    "print(imgarr)"
   ]
  },
  {
   "cell_type": "code",
   "execution_count": 132,
   "metadata": {},
   "outputs": [],
   "source": [
    "class imgArray():\n",
    "    def __init__(self, image):\n",
    "        self.img = image\n",
    "        print(self.img)\n",
    "        \n",
    "        self.array = np.asarray(self.img)\n",
    "        self.avg = []\n",
    "        \n",
    "        self.rgb()\n",
    "        \n",
    "        #print(self.array.shape)\n",
    "        \n",
    "    \n",
    "    def getexifdata(self):\n",
    "    \n",
    "        inputimage = self.img\n",
    "        \n",
    "        exifdata = inputimage._getexif()\n",
    "        wantedtags = [\"ISOSpeedRatings\", \"FocalLength\", \"MaxApertureValue\", \n",
    "                      \"ExposureTime\", \"FNumber\", \"WhiteBalance\", \"MeteringMode\", \n",
    "                      \"LightSource\", \"Contrast\", \"Saturation\", \"Sharpness\"]\n",
    "        fdata = {}\n",
    "\n",
    "        for tagid, data in exifdata.items():\n",
    "            name = TAGS.get(tagid, tagid)\n",
    "\n",
    "            #print(name, tagid)\n",
    "\n",
    "            if name in wantedtags:\n",
    "                fdata[name] = data\n",
    "\n",
    "        return fdata\n",
    "    \n",
    "    \n",
    "    def rgb(self):\n",
    "        self.red = self.array[:,:,0]\n",
    "        self.green = self.array[:,:,1]\n",
    "        self.blue = self.array[:,:,2]\n",
    "        \n",
    "        \n",
    "#     too slow\n",
    "#     def pmeans(self, array):\n",
    "#         for row in array:\n",
    "#             for col in row:\n",
    "#                 self.avg.append(np.mean(col))\n",
    "            \n",
    "    \n",
    "    def hist(self, xrnge=[-50,300], yrnge=[0,400]):\n",
    "    \n",
    "        assert isinstance(xrnge, list) and isinstance(yrnge, list), \"both xrnge and yrnge attributes should be lists\"\n",
    "\n",
    "        self.histarray = self.img.histogram()\n",
    "        \n",
    "        \n",
    "        \n",
    "        tmpplot = plt.hist(range(0, 256), weights=self.histarray[0:256], bins = 255)\n",
    "        tmpplot = plt.hist(range(0, 256), weights=self.histarray[256:512], bins = 255)\n",
    "        tmpplot = plt.hist(range(0, 256), weights=self.histarray[512:768], bins = 255)\n",
    "        \n",
    "        \n",
    "        \n",
    "#         plt.hist(self.histarray, bins = 255)\n",
    "#         avgplot = plt.gca()\n",
    "#         avgplot.set_ylim(yrnge)\n",
    "#         avgplot.set_xlim(xrnge)\n",
    "#         plt.show()\n",
    "        \n",
    "#         if isinstance(averages[0], list):\n",
    "#             loop = len(averages)\n",
    "#         else:\n",
    "#             loop = 1\n",
    "#             averages = [averages]\n",
    "\n",
    "#         loop = 3\n",
    "#         print(loop)\n",
    "\n",
    "#         for x in range(loop):\n",
    "\n",
    "#             plt.hist(self.red[x], bins = 100)\n",
    "#             avgplot = plt.gca()\n",
    "#             avgplot.set_ylim(yrnge)\n",
    "#             avgplot.set_xlim(xrnge)\n",
    "#         plt.show()\n",
    "            \n",
    "    \n",
    "    pixels = []\n",
    "\n",
    "    def adjust(pixel, nums, scale, shift):\n",
    "        nums.sort()\n",
    "\n",
    "        pixels.append(pixel)\n",
    "        if nums[1] > pixel > nums[0]:\n",
    "            return (pixel + shift) * scale\n",
    "        return pixel\n",
    "    \n",
    "    \n",
    "    def editimage(self, scale, shift = 0, nums=[-1,257], show=True):\n",
    "    \n",
    "        assert isinstance(show, bool), \"show attribute should be a boolean\"\n",
    "\n",
    "        out = image_in.point(lambda i: adjust(i, nums, scale, shift))\n",
    "\n",
    "\n",
    "        if show:\n",
    "\n",
    "            out.show()\n",
    "        else:\n",
    "            #time.sleep(0.1)\n",
    "            return out\n",
    "        \n",
    "        \n",
    "    def get_std(self):\n",
    "        return np.std(self.red)\n",
    "        \n",
    "#         arrlen = len(self.red)\n",
    "#         arrsum = sum(self.array)\n",
    "\n",
    "#         arrmean = arrsum / arrlen\n",
    "\n",
    "#         arrdev = [(x - arrmean)**2 for x in self.array]\n",
    "\n",
    "#         arraystd = sum(arrdev) / len(arrdev)\n",
    "\n",
    "#         return arraystd\n"
   ]
  },
  {
   "cell_type": "code",
   "execution_count": 127,
   "metadata": {},
   "outputs": [
    {
     "name": "stdout",
     "output_type": "stream",
     "text": [
      "(6000, 3)\n"
     ]
    }
   ],
   "source": [
    "print(imgarr[:,:,0:4][0].shape)"
   ]
  },
  {
   "cell_type": "code",
   "execution_count": 128,
   "metadata": {},
   "outputs": [
    {
     "data": {
      "image/png": "[encoded data removed]",
      "text/plain": [
       "<Figure size 432x288 with 1 Axes>"
      ]
     },
     "metadata": {
      "needs_background": "light"
     },
     "output_type": "display_data"
    }
   ],
   "source": [
    "#print(len(images[0].histogram()))\n",
    "\n",
    "tmpplot = plt.hist(range(0, 768), weights=images[0].histogram(), bins = 100)\n"
   ]
  },
  {
   "cell_type": "code",
   "execution_count": 133,
   "metadata": {},
   "outputs": [
    {
     "name": "stdout",
     "output_type": "stream",
     "text": [
      "<PIL.MpoImagePlugin.MpoImageFile image mode=RGB size=6000x4000 at 0xA8023B0>\n"
     ]
    },
    {
     "ename": "MemoryError",
     "evalue": "",
     "output_type": "error",
     "traceback": [
      "\u001b[1;31m---------------------------------------------------------------------------\u001b[0m",
      "\u001b[1;31mMemoryError\u001b[0m                               Traceback (most recent call last)",
      "\u001b[1;32m<ipython-input-133-d21a9c9fce4b>\u001b[0m in \u001b[0;36m<module>\u001b[1;34m\u001b[0m\n\u001b[0;32m      1\u001b[0m \u001b[0mtest\u001b[0m \u001b[1;33m=\u001b[0m \u001b[0mimgArray\u001b[0m\u001b[1;33m(\u001b[0m\u001b[0mimages\u001b[0m\u001b[1;33m[\u001b[0m\u001b[1;36m0\u001b[0m\u001b[1;33m]\u001b[0m\u001b[1;33m)\u001b[0m\u001b[1;33m\u001b[0m\u001b[0m\n\u001b[0;32m      2\u001b[0m \u001b[1;33m\u001b[0m\u001b[0m\n\u001b[1;32m----> 3\u001b[1;33m \u001b[0mtest\u001b[0m\u001b[1;33m.\u001b[0m\u001b[0mget_std\u001b[0m\u001b[1;33m(\u001b[0m\u001b[1;33m)\u001b[0m\u001b[1;33m\u001b[0m\u001b[0m\n\u001b[0m",
      "\u001b[1;32m<ipython-input-132-8803b4bc4489>\u001b[0m in \u001b[0;36mget_std\u001b[1;34m(self)\u001b[0m\n\u001b[0;32m    111\u001b[0m \u001b[1;33m\u001b[0m\u001b[0m\n\u001b[0;32m    112\u001b[0m     \u001b[1;32mdef\u001b[0m \u001b[0mget_std\u001b[0m\u001b[1;33m(\u001b[0m\u001b[0mself\u001b[0m\u001b[1;33m)\u001b[0m\u001b[1;33m:\u001b[0m\u001b[1;33m\u001b[0m\u001b[0m\n\u001b[1;32m--> 113\u001b[1;33m         \u001b[1;32mreturn\u001b[0m \u001b[0mnp\u001b[0m\u001b[1;33m.\u001b[0m\u001b[0mstd\u001b[0m\u001b[1;33m(\u001b[0m\u001b[0mself\u001b[0m\u001b[1;33m.\u001b[0m\u001b[0mred\u001b[0m\u001b[1;33m)\u001b[0m\u001b[1;33m\u001b[0m\u001b[0m\n\u001b[0m\u001b[0;32m    114\u001b[0m \u001b[1;33m\u001b[0m\u001b[0m\n\u001b[0;32m    115\u001b[0m \u001b[1;31m#         arrlen = len(self.red)\u001b[0m\u001b[1;33m\u001b[0m\u001b[1;33m\u001b[0m\u001b[0m\n",
      "\u001b[1;32mc:\\users\\zehua\\appdata\\local\\programs\\python\\python36-32\\lib\\site-packages\\numpy\\core\\fromnumeric.py\u001b[0m in \u001b[0;36mstd\u001b[1;34m(a, axis, dtype, out, ddof, keepdims)\u001b[0m\n\u001b[0;32m   3240\u001b[0m \u001b[1;33m\u001b[0m\u001b[0m\n\u001b[0;32m   3241\u001b[0m     return _methods._std(a, axis=axis, dtype=dtype, out=out, ddof=ddof,\n\u001b[1;32m-> 3242\u001b[1;33m                          **kwargs)\n\u001b[0m\u001b[0;32m   3243\u001b[0m \u001b[1;33m\u001b[0m\u001b[0m\n\u001b[0;32m   3244\u001b[0m \u001b[1;33m\u001b[0m\u001b[0m\n",
      "\u001b[1;32mc:\\users\\zehua\\appdata\\local\\programs\\python\\python36-32\\lib\\site-packages\\numpy\\core\\_methods.py\u001b[0m in \u001b[0;36m_std\u001b[1;34m(a, axis, dtype, out, ddof, keepdims)\u001b[0m\n\u001b[0;32m    138\u001b[0m \u001b[1;32mdef\u001b[0m \u001b[0m_std\u001b[0m\u001b[1;33m(\u001b[0m\u001b[0ma\u001b[0m\u001b[1;33m,\u001b[0m \u001b[0maxis\u001b[0m\u001b[1;33m=\u001b[0m\u001b[1;32mNone\u001b[0m\u001b[1;33m,\u001b[0m \u001b[0mdtype\u001b[0m\u001b[1;33m=\u001b[0m\u001b[1;32mNone\u001b[0m\u001b[1;33m,\u001b[0m \u001b[0mout\u001b[0m\u001b[1;33m=\u001b[0m\u001b[1;32mNone\u001b[0m\u001b[1;33m,\u001b[0m \u001b[0mddof\u001b[0m\u001b[1;33m=\u001b[0m\u001b[1;36m0\u001b[0m\u001b[1;33m,\u001b[0m \u001b[0mkeepdims\u001b[0m\u001b[1;33m=\u001b[0m\u001b[1;32mFalse\u001b[0m\u001b[1;33m)\u001b[0m\u001b[1;33m:\u001b[0m\u001b[1;33m\u001b[0m\u001b[0m\n\u001b[0;32m    139\u001b[0m     ret = _var(a, axis=axis, dtype=dtype, out=out, ddof=ddof,\n\u001b[1;32m--> 140\u001b[1;33m                keepdims=keepdims)\n\u001b[0m\u001b[0;32m    141\u001b[0m \u001b[1;33m\u001b[0m\u001b[0m\n\u001b[0;32m    142\u001b[0m     \u001b[1;32mif\u001b[0m \u001b[0misinstance\u001b[0m\u001b[1;33m(\u001b[0m\u001b[0mret\u001b[0m\u001b[1;33m,\u001b[0m \u001b[0mmu\u001b[0m\u001b[1;33m.\u001b[0m\u001b[0mndarray\u001b[0m\u001b[1;33m)\u001b[0m\u001b[1;33m:\u001b[0m\u001b[1;33m\u001b[0m\u001b[0m\n",
      "\u001b[1;32mc:\\users\\zehua\\appdata\\local\\programs\\python\\python36-32\\lib\\site-packages\\numpy\\core\\_methods.py\u001b[0m in \u001b[0;36m_var\u001b[1;34m(a, axis, dtype, out, ddof, keepdims)\u001b[0m\n\u001b[0;32m    115\u001b[0m     \u001b[1;31m# Note that x may not be inexact and that we need it to be an array,\u001b[0m\u001b[1;33m\u001b[0m\u001b[1;33m\u001b[0m\u001b[0m\n\u001b[0;32m    116\u001b[0m     \u001b[1;31m# not a scalar.\u001b[0m\u001b[1;33m\u001b[0m\u001b[1;33m\u001b[0m\u001b[0m\n\u001b[1;32m--> 117\u001b[1;33m     \u001b[0mx\u001b[0m \u001b[1;33m=\u001b[0m \u001b[0masanyarray\u001b[0m\u001b[1;33m(\u001b[0m\u001b[0marr\u001b[0m \u001b[1;33m-\u001b[0m \u001b[0marrmean\u001b[0m\u001b[1;33m)\u001b[0m\u001b[1;33m\u001b[0m\u001b[0m\n\u001b[0m\u001b[0;32m    118\u001b[0m     \u001b[1;32mif\u001b[0m \u001b[0missubclass\u001b[0m\u001b[1;33m(\u001b[0m\u001b[0marr\u001b[0m\u001b[1;33m.\u001b[0m\u001b[0mdtype\u001b[0m\u001b[1;33m.\u001b[0m\u001b[0mtype\u001b[0m\u001b[1;33m,\u001b[0m \u001b[0mnt\u001b[0m\u001b[1;33m.\u001b[0m\u001b[0mcomplexfloating\u001b[0m\u001b[1;33m)\u001b[0m\u001b[1;33m:\u001b[0m\u001b[1;33m\u001b[0m\u001b[0m\n\u001b[0;32m    119\u001b[0m         \u001b[0mx\u001b[0m \u001b[1;33m=\u001b[0m \u001b[0mum\u001b[0m\u001b[1;33m.\u001b[0m\u001b[0mmultiply\u001b[0m\u001b[1;33m(\u001b[0m\u001b[0mx\u001b[0m\u001b[1;33m,\u001b[0m \u001b[0mum\u001b[0m\u001b[1;33m.\u001b[0m\u001b[0mconjugate\u001b[0m\u001b[1;33m(\u001b[0m\u001b[0mx\u001b[0m\u001b[1;33m)\u001b[0m\u001b[1;33m,\u001b[0m \u001b[0mout\u001b[0m\u001b[1;33m=\u001b[0m\u001b[0mx\u001b[0m\u001b[1;33m)\u001b[0m\u001b[1;33m.\u001b[0m\u001b[0mreal\u001b[0m\u001b[1;33m\u001b[0m\u001b[0m\n",
      "\u001b[1;31mMemoryError\u001b[0m: "
     ]
    }
   ],
   "source": [
    "test = imgArray(images[0])\n",
    "\n",
    "test.get_std()"
   ]
  },
  {
   "cell_type": "code",
   "execution_count": 17,
   "metadata": {},
   "outputs": [
    {
     "data": {
      "text/plain": [
       "18039099"
      ]
     },
     "execution_count": 17,
     "metadata": {},
     "output_type": "execute_result"
    }
   ],
   "source": [
    "len(test.avg)"
   ]
  },
  {
   "cell_type": "code",
   "execution_count": 3,
   "metadata": {},
   "outputs": [],
   "source": [
    "def getexifdata(inputimage):\n",
    "    \n",
    "    exifdata = inputimage._getexif()\n",
    "\n",
    "    wantedtags = [\"ISOSpeedRatings\", \"FocalLength\", \"MaxApertureValue\", \n",
    "                  \"ExposureTime\", \"FNumber\", \"WhiteBalance\", \"MeteringMode\", \n",
    "                  \"LightSource\", \"Contrast\", \"Saturation\", \"Sharpness\"]\n",
    "    \n",
    "    fdata = {}\n",
    "\n",
    "    for tagid, data in exifdata.items():\n",
    "        name = TAGS.get(tagid, tagid)\n",
    "        \n",
    "        #print(name, tagid)\n",
    "\n",
    "        if name in wantedtags:\n",
    "            fdata[name] = data\n",
    "\n",
    "    return fdata"
   ]
  },
  {
   "cell_type": "code",
   "execution_count": 4,
   "metadata": {},
   "outputs": [],
   "source": [
    "outdata = []\n",
    "\n",
    "for img in images:\n",
    "    outdata.append(getexifdata(img))"
   ]
  },
  {
   "cell_type": "code",
   "execution_count": 77,
   "metadata": {},
   "outputs": [],
   "source": [
    "def pmeans(array, averages):\n",
    "     for x in array:\n",
    "        for y in x:\n",
    "            averages.append(y.mean())"
   ]
  },
  {
   "cell_type": "code",
   "execution_count": 6,
   "metadata": {
    "scrolled": true
   },
   "outputs": [],
   "source": [
    "def hist(averages, xrnge=[-50,300], yrnge=[0,400]):\n",
    "    \n",
    "    assert isinstance(xrnge, list) and isinstance(yrnge, list), \"both xrnge and yrnge attributes should be lists\"\n",
    "    \n",
    "    if isinstance(averages[0], list):\n",
    "        loop = len(averages)\n",
    "    else:\n",
    "        loop = 1\n",
    "        averages = [averages]\n",
    "        \n",
    "    print(loop)\n",
    "        \n",
    "    for x in range(loop):\n",
    "\n",
    "        plt.hist(averages[x], bins = 100)\n",
    "        avgplot = plt.gca()\n",
    "        avgplot.set_ylim(yrnge)\n",
    "        avgplot.set_xlim(xrnge)\n",
    "        plt.show()\n",
    "\n",
    "#hist([avgiso1, avgiso2, avgiso3])\n",
    "    \n",
    "# yax = [0, 400]\n",
    "# xax = [-50,300]\n",
    "\n",
    "# plt.hist(sorted(avgiso1), bins = 100)\n",
    "# avgplot = plt.gca()\n",
    "# avgplot.set_ylim(yax)\n",
    "# avgplot.set_xlim(xax)\n",
    "# plt.show()\n",
    "\n",
    "# plt.hist(sorted(avgiso2), bins = 100)\n",
    "# avgplot = plt.gca()\n",
    "# avgplot.set_ylim(yax)\n",
    "# avgplot.set_xlim(xax)\n",
    "# plt.show()\n",
    "\n",
    "# plt.hist(sorted(avgiso3), bins = 100)\n",
    "# avgplot = plt.gca()\n",
    "# avgplot.set_ylim(yax)\n",
    "# avgplot.set_xlim(xax)\n",
    "# plt.show()"
   ]
  },
  {
   "cell_type": "code",
   "execution_count": 7,
   "metadata": {},
   "outputs": [],
   "source": [
    "lightall = np.asarray(images[8])\n",
    "lightmain = np.asarray(images[9])\n",
    "lightnone = np.asarray(images[10])\n",
    "lightside = np.asarray(images[11])"
   ]
  },
  {
   "cell_type": "code",
   "execution_count": 8,
   "metadata": {},
   "outputs": [
    {
     "name": "stdout",
     "output_type": "stream",
     "text": [
      "200.7843888888852\n",
      "74.43094444444324\n",
      "2.6975929217014665\n"
     ]
    }
   ],
   "source": [
    "avglighta = []\n",
    "avglightm = []\n",
    "avglightn = []\n",
    "avglights = []\n",
    "\n",
    "pmeans(lightall, avglighta)\n",
    "pmeans(lightmain, avglightm)\n",
    "pmeans(lightnone, avglightn)\n",
    "pmeans(lightside, avglights)\n",
    "\n",
    "# avglightn = [x * 10 + 60 for x in avglightn]\n",
    "# avglights = [x * 2.7 for x in avglights]\n",
    "\n",
    "\n",
    "print(float(sum(avglighta)) / float(len(avglighta)))\n",
    "print(float(sum(avglights)) / float(len(avglights)))\n",
    "\n",
    "print((float(sum(avglighta)) / float(len(avglighta))) / (float(sum(avglights)) / float(len(avglights))))\n"
   ]
  },
  {
   "cell_type": "code",
   "execution_count": 9,
   "metadata": {},
   "outputs": [
    {
     "name": "stdout",
     "output_type": "stream",
     "text": [
      "4\n"
     ]
    },
    {
     "data": {
      "image/png": "[encoded data removed]",
      "text/plain": [
       "<Figure size 432x288 with 1 Axes>"
      ]
     },
     "metadata": {
      "needs_background": "light"
     },
     "output_type": "display_data"
    },
    {
     "data": {
      "image/png": "[encoded data removed]",
      "text/plain": [
       "<Figure size 432x288 with 1 Axes>"
      ]
     },
     "metadata": {
      "needs_background": "light"
     },
     "output_type": "display_data"
    },
    {
     "data": {
      "image/png": "[encoded data removed]",
      "text/plain": [
       "<Figure size 432x288 with 1 Axes>"
      ]
     },
     "metadata": {
      "needs_background": "light"
     },
     "output_type": "display_data"
    },
    {
     "data": {
      "image/png": "[encoded data removed]",
      "text/plain": [
       "<Figure size 432x288 with 1 Axes>"
      ]
     },
     "metadata": {
      "needs_background": "light"
     },
     "output_type": "display_data"
    }
   ],
   "source": [
    "hist([avglighta, avglightm, avglightn, avglights])\n",
    "\n",
    "\n",
    "# yax = [0, 400]\n",
    "# xax = [-50,300]\n",
    "\n",
    "# plt.hist(sorted(avglighta), bins = 100)\n",
    "# avgplot = plt.gca()\n",
    "# avgplot.set_ylim(yax)\n",
    "# avgplot.set_xlim(xax)\n",
    "# plt.show()\n",
    "\n",
    "# plt.hist(sorted(avglightm), bins = 100)\n",
    "# avgplot = plt.gca()\n",
    "# avgplot.set_ylim(yax)\n",
    "# avgplot.set_xlim(xax)\n",
    "# plt.show()\n",
    "\n",
    "# plt.hist(sorted(avglightn), bins = 100)\n",
    "# avgplot = plt.gca()\n",
    "# avgplot.set_ylim(yax)\n",
    "# avgplot.set_xlim(xax)\n",
    "# plt.show()\n",
    "\n",
    "# plt.hist(sorted(avglights), bins = 100)\n",
    "# avgplot = plt.gca()\n",
    "# avgplot.set_ylim(yax)\n",
    "# avgplot.set_xlim(xax)\n",
    "# plt.show()"
   ]
  },
  {
   "cell_type": "code",
   "execution_count": 10,
   "metadata": {},
   "outputs": [],
   "source": [
    "pixels = []\n",
    "\n",
    "def adjust(pixel, nums, scale, shift):\n",
    "    nums.sort()\n",
    "    \n",
    "    pixels.append(pixel)\n",
    "    if nums[1] > pixel > nums[0]:\n",
    "        return (pixel + shift) * scale\n",
    "    return pixel"
   ]
  },
  {
   "cell_type": "code",
   "execution_count": 11,
   "metadata": {},
   "outputs": [],
   "source": [
    "def editimage(image_in, scale, shift = 0, nums=[-1,257], show=True):\n",
    "    \n",
    "    assert isinstance(show, bool), \"show attribute should be a boolean\"\n",
    "    \n",
    "    out = image_in.point(lambda i: adjust(i, nums, scale, shift))\n",
    "    \n",
    "    \n",
    "    if show:\n",
    "        \n",
    "        out.show()\n",
    "    else:\n",
    "        time.sleep(0.1)\n",
    "        return out\n",
    "\n",
    "# out = images[1].point(lambda i: adjust(i))\n",
    "\n",
    "# #display image\n",
    "# out.show()"
   ]
  },
  {
   "cell_type": "code",
   "execution_count": 12,
   "metadata": {},
   "outputs": [],
   "source": [
    "editimage(image_in = images[1], nums = [30, 45], scale = 1.7)"
   ]
  },
  {
   "cell_type": "code",
   "execution_count": 13,
   "metadata": {},
   "outputs": [],
   "source": [
    "editimage(images[1], 1)"
   ]
  },
  {
   "cell_type": "code",
   "execution_count": 105,
   "metadata": {},
   "outputs": [],
   "source": [
    "# source = images[11].split()\n",
    "\n",
    "# R, G, B = 0, 1, 2\n",
    "\n",
    "# # select regions where red is less than 100\n",
    "# mask = source[R].point(lambda i: i < 100 and 255)\n",
    "\n",
    "# # process the green band\n",
    "# out = source[G].point(lambda i: i * 0.7)\n",
    "\n",
    "# # paste the processed band back, but only where red was < 100\n",
    "# source[G].paste(out, None, mask)\n",
    "\n",
    "# # build a new multiband image\n",
    "# im = Image.merge(images[11].mode, source)\n",
    "\n",
    "# im.show()"
   ]
  },
  {
   "cell_type": "code",
   "execution_count": null,
   "metadata": {},
   "outputs": [],
   "source": [
    "# check for average of maxes and mins to deterine if photo is over or under exposed\n",
    "# maybe just edit first photo and use histogram to adjust all sequential photos\n",
    "# "
   ]
  },
  {
   "cell_type": "code",
   "execution_count": 14,
   "metadata": {},
   "outputs": [],
   "source": [
    "def std(array):\n",
    "    arrlen = len(array)\n",
    "    arrsum = sum(array)\n",
    "    \n",
    "    arrmean = float(arrsum) / float(arrlen)\n",
    "    \n",
    "    arrdev = [(x - arrmean)**2 for x in array]\n",
    "    \n",
    "    arrstd = float(sum(arrdev)) / float(len(arrdev))\n",
    "    \n",
    "    return arrstd"
   ]
  },
  {
   "cell_type": "code",
   "execution_count": 15,
   "metadata": {},
   "outputs": [
    {
     "name": "stdout",
     "output_type": "stream",
     "text": [
      "4095.556085922771\n",
      "4589.240470370294\n",
      "29.639673777777865\n",
      "885.1541572561738\n"
     ]
    }
   ],
   "source": [
    "print(std(avglighta))\n",
    "print(std(avglightm))\n",
    "print(std(avglightn))\n",
    "print(std(avglights))"
   ]
  },
  {
   "cell_type": "code",
   "execution_count": 162,
   "metadata": {},
   "outputs": [],
   "source": [
    "sunset1 = np.array(images[13])\n",
    "sunsetp1 = np.asarray(images[14])\n",
    "sunset2 = np.asarray(images[15])\n",
    "sunsetp2 = np.asarray(images[16])"
   ]
  },
  {
   "cell_type": "code",
   "execution_count": 163,
   "metadata": {},
   "outputs": [
    {
     "name": "stdout",
     "output_type": "stream",
     "text": [
      "<PIL.MpoImagePlugin.MpoImageFile image mode=RGB size=6000x4000 at 0x64566F0>\n",
      "<PIL.MpoImagePlugin.MpoImageFile image mode=RGB size=6000x4000 at 0x64566F0>\n"
     ]
    }
   ],
   "source": [
    "print(sunset1)\n",
    "print(sunset1)"
   ]
  },
  {
   "cell_type": "code",
   "execution_count": 19,
   "metadata": {},
   "outputs": [],
   "source": [
    "sunavg1 = []\n",
    "sunavgp1 = []\n",
    "sunavg2 = []\n",
    "sunavgp2 = []\n",
    "\n",
    "pmeans(sunset1, sunavg1)\n",
    "pmeans(sunsetp1, sunavgp1)\n",
    "pmeans(sunset2, sunavg2)\n",
    "pmeans(sunsetp2, sunavgp2)"
   ]
  },
  {
   "cell_type": "code",
   "execution_count": 72,
   "metadata": {},
   "outputs": [
    {
     "name": "stdout",
     "output_type": "stream",
     "text": [
      "6000\n"
     ]
    }
   ],
   "source": [
    "print(len(sunavg1))"
   ]
  },
  {
   "cell_type": "code",
   "execution_count": 20,
   "metadata": {},
   "outputs": [
    {
     "name": "stdout",
     "output_type": "stream",
     "text": [
      "1\n"
     ]
    },
    {
     "data": {
      "image/png": "[encoded data removed]",
      "text/plain": [
       "<Figure size 432x288 with 1 Axes>"
      ]
     },
     "metadata": {
      "needs_background": "light"
     },
     "output_type": "display_data"
    }
   ],
   "source": [
    "# hist([sunavg1, sunavg2, sunavgp1, sunavgp2])\n",
    "\n",
    "hist([[sunavg2, sunavgp2]])"
   ]
  },
  {
   "cell_type": "code",
   "execution_count": 25,
   "metadata": {},
   "outputs": [],
   "source": [
    "# print(std(sunavg2))\n",
    "# print(std(sunavgp2))\n",
    "\n",
    "# stdratio = std(sunavg2) / std(sunavgp2)\n",
    "\n",
    "# scaler = stdratio**0.5\n",
    "# print(scaler)\n",
    "\n",
    "# avglightscaled = [x * scaler for x in sunavg2]\n",
    "\n",
    "# print(std(sunavg2) / std(avglightscaled))\n",
    "\n",
    "# print(avglightscaled[0:5])\n",
    "\n",
    "# hist([[avglightscaled, sunavg2, sunavgp2]])\n",
    "\n",
    "# editimage(images[16], scaler)"
   ]
  },
  {
   "cell_type": "code",
   "execution_count": null,
   "metadata": {},
   "outputs": [],
   "source": [
    "# #Notes\n",
    "\n",
    "# std dev is not enough, need more variables in alg\n",
    "\n",
    "# ideas:\n",
    "#     mean\n",
    "#     mode\n",
    "#     median\n",
    "#     x min and max\n",
    "#     y min and max\n",
    "#     local/smaller population size analysis\n",
    "#     log?\n",
    "#     IQR?\n",
    "#     somethign to do with violin plot?"
   ]
  },
  {
   "cell_type": "code",
   "execution_count": 26,
   "metadata": {},
   "outputs": [],
   "source": [
    "def mean(array):\n",
    "    arrsum = sum(array)\n",
    "    arrlen = len(array)\n",
    "\n",
    "    return arrsum / arrlen"
   ]
  },
  {
   "cell_type": "code",
   "execution_count": 27,
   "metadata": {},
   "outputs": [],
   "source": [
    "def mode(array):\n",
    "\n",
    "    counter = [0 for x in range(256)]\n",
    "\n",
    "    for x in array:\n",
    "        counter[int(x)] += 1\n",
    "    \n",
    "    return np.argmax(counter)"
   ]
  },
  {
   "cell_type": "code",
   "execution_count": 28,
   "metadata": {},
   "outputs": [],
   "source": [
    "def median(array):\n",
    "    array.sort()\n",
    "    \n",
    "    arrlen = (len(array) / 2) - 1\n",
    "\n",
    "    if arrlen == math.floor(arrlen):\n",
    "        lownum = array[int(arrlen)]\n",
    "        highnum = array[int(arrlen+1)]\n",
    "        return mean([lownum, highnum])\n",
    "    else:\n",
    "        return array[int(math.floor(arrlen))]"
   ]
  },
  {
   "cell_type": "code",
   "execution_count": 29,
   "metadata": {},
   "outputs": [],
   "source": [
    "def IQR(array):\n",
    "    thirdq, firstq = np.percentile(array, [75 ,25])\n",
    "    iqr = thirdq - firstq\n",
    "    \n",
    "    return iqr"
   ]
  },
  {
   "cell_type": "code",
   "execution_count": 30,
   "metadata": {},
   "outputs": [],
   "source": [
    "def datarange(array):\n",
    "    array.sort()\n",
    "    arrlen = len(array)\n",
    "    \n",
    "    range10 = int(math.floor(arrlen / 10))\n",
    "    \n",
    "    top10 = array[:range10+1]\n",
    "    low10 = array[arrlen-range10:]\n",
    "    \n",
    "    return [mean(top10), mean(low10)]"
   ]
  },
  {
   "cell_type": "code",
   "execution_count": 31,
   "metadata": {},
   "outputs": [],
   "source": [
    "def summary(array):\n",
    "    print(\"==========================\")\n",
    "    \n",
    "    print(\"Mean:               \" + str(mean(array)))\n",
    "    \n",
    "    print(\"Mode:               \" + str(mode(array)))\n",
    "    \n",
    "    print(\"Median:             \" + str(median(array)))\n",
    "    \n",
    "    print(\"IQR:                \" + str(IQR(array)))\n",
    "    \n",
    "    print(\"Std Dev:            \" + str(std(array)))\n",
    "    \n",
    "    print(\"High & low range:   \" + str(datarange(array)))\n",
    "    \n",
    "    print(\"==========================\")\n"
   ]
  },
  {
   "cell_type": "code",
   "execution_count": 32,
   "metadata": {},
   "outputs": [],
   "source": [
    "def match(array, scale):\n",
    "    return [x * scale for x in array]"
   ]
  },
  {
   "cell_type": "code",
   "execution_count": 33,
   "metadata": {},
   "outputs": [
    {
     "name": "stdout",
     "output_type": "stream",
     "text": [
      "==========================\n",
      "Mean:               184.99677777777646\n",
      "Mode:               254\n",
      "Median:             197.66666666666666\n",
      "IQR:                136.66666666666666\n",
      "Std Dev:            4635.10161924693\n",
      "High & low range:   [78.09706045479754, 254.99222222222218]\n",
      "==========================\n",
      "==========================\n",
      "Mean:               117.46655555555544\n",
      "Mode:               229\n",
      "Median:             93.0\n",
      "IQR:                190.66666666666666\n",
      "Std Dev:            7509.4333259137065\n",
      "High & low range:   [14.019412090959506, 231.50944444444443]\n",
      "==========================\n"
     ]
    }
   ],
   "source": [
    "summary(sunavg1)\n",
    "summary(sunavg2)"
   ]
  },
  {
   "cell_type": "code",
   "execution_count": 34,
   "metadata": {},
   "outputs": [
    {
     "name": "stdout",
     "output_type": "stream",
     "text": [
      "1\n"
     ]
    },
    {
     "data": {
      "image/png": "[encoded data removed]",
      "text/plain": [
       "<Figure size 432x288 with 1 Axes>"
      ]
     },
     "metadata": {
      "needs_background": "light"
     },
     "output_type": "display_data"
    },
    {
     "name": "stdout",
     "output_type": "stream",
     "text": [
      "1\n"
     ]
    },
    {
     "data": {
      "image/png": "[encoded data removed]",
      "text/plain": [
       "<Figure size 432x288 with 1 Axes>"
      ]
     },
     "metadata": {
      "needs_background": "light"
     },
     "output_type": "display_data"
    }
   ],
   "source": [
    "hist(sunavg1)\n",
    "hist(sunavg2)"
   ]
  },
  {
   "cell_type": "code",
   "execution_count": 35,
   "metadata": {},
   "outputs": [
    {
     "name": "stdout",
     "output_type": "stream",
     "text": [
      "1\n"
     ]
    },
    {
     "data": {
      "image/png": "[encoded data removed]",
      "text/plain": [
       "<Figure size 432x288 with 1 Axes>"
      ]
     },
     "metadata": {
      "needs_background": "light"
     },
     "output_type": "display_data"
    },
    {
     "name": "stdout",
     "output_type": "stream",
     "text": [
      "1\n"
     ]
    },
    {
     "data": {
      "image/png": "[encoded data removed]",
      "text/plain": [
       "<Figure size 432x288 with 1 Axes>"
      ]
     },
     "metadata": {
      "needs_background": "light"
     },
     "output_type": "display_data"
    },
    {
     "name": "stdout",
     "output_type": "stream",
     "text": [
      "1\n"
     ]
    },
    {
     "data": {
      "image/png": "[encoded data removed]",
      "text/plain": [
       "<Figure size 432x288 with 1 Axes>"
      ]
     },
     "metadata": {
      "needs_background": "light"
     },
     "output_type": "display_data"
    }
   ],
   "source": [
    "hist(sunavg1, yrnge = [0, 2100])\n",
    "hist(match(sunavg1, (std(sunavg2) / std(sunavg1))**0.5))\n",
    "hist(sunavg2, yrnge = [0,2100])"
   ]
  },
  {
   "cell_type": "code",
   "execution_count": 36,
   "metadata": {},
   "outputs": [],
   "source": [
    "editimage(images[15], 0, nums = [215, 245])"
   ]
  },
  {
   "cell_type": "code",
   "execution_count": 49,
   "metadata": {},
   "outputs": [
    {
     "name": "stdout",
     "output_type": "stream",
     "text": [
      "1.6201226947714198\n",
      "1\n"
     ]
    },
    {
     "data": {
      "image/png": "[encoded data removed]",
      "text/plain": [
       "<Figure size 432x288 with 1 Axes>"
      ]
     },
     "metadata": {
      "needs_background": "light"
     },
     "output_type": "display_data"
    }
   ],
   "source": [
    "stdratio = std(sunavg2) / std(sunavg1)\n",
    "\n",
    "scaler = stdratio**0.5\n",
    "print(stdratio)\n",
    "\n",
    "meandif = (mean(sunavg2) - mean(sunavg1)) / 2\n",
    "\n",
    "avglightscaled = [(x + meandif) * scaler for x in sunavg2]\n",
    "\n",
    "# print(std(sunavg2) / std(avglightscaled))\n",
    "\n",
    "# print(avglightscaled[0:5])\n",
    "\n",
    "hist([[avglightscaled, sunavg1, sunavg2]])\n",
    "\n",
    "editimage(images[15], scaler, shift = meandif)"
   ]
  },
  {
   "cell_type": "code",
   "execution_count": 12,
   "metadata": {},
   "outputs": [],
   "source": [
    "# im = Image.fromarray(imarr)"
   ]
  }
 ],
 "metadata": {
  "kernelspec": {
   "display_name": "Python 3",
   "language": "python",
   "name": "python3"
  },
  "language_info": {
   "codemirror_mode": {
    "name": "ipython",
    "version": 3
   },
   "file_extension": ".py",
   "mimetype": "text/x-python",
   "name": "python",
   "nbconvert_exporter": "python",
   "pygments_lexer": "ipython3",
   "version": "3.6.2"
  }
 },
 "nbformat": 4,
 "nbformat_minor": 2
}
