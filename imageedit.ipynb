{
 "cells": [
  {
   "cell_type": "code",
   "execution_count": 246,
   "metadata": {},
   "outputs": [],
   "source": [
    "from PIL import Image, ImageEnhance, ExifTags\n",
    "from PIL.ExifTags import TAGS\n",
    "\n",
    "import numpy as np\n",
    "import matplotlib.pyplot as plt\n",
    "\n",
    "import re\n",
    "import os\n",
    "from os import walk\n",
    "import math"
   ]
  },
  {
   "cell_type": "code",
   "execution_count": 247,
   "metadata": {},
   "outputs": [],
   "source": [
    "wd = os.getcwd()"
   ]
  },
  {
   "cell_type": "code",
   "execution_count": 248,
   "metadata": {},
   "outputs": [
    {
     "data": {
      "text/plain": [
       "'\\nimg = Image.open(\"images/G2DSC_0432.jpg\")\\nimg1 = Image.open(\"images/GDSC_0839.jpg\")\\nimg2 = Image.open(\"images/DSC_0793_edited.jpg\")\\nimgbw = Image.open(\"images/DSC_0659.jpg\")\\nimgblack = Image.open(\"images/DSC_0016.jpg\")\\nimgwhite = Image.open(\"images/DSC_0017.jpg\")\\nimgmix = Image.open(\"images/DSC_0018.jpg\")\\n'"
      ]
     },
     "execution_count": 248,
     "metadata": {},
     "output_type": "execute_result"
    }
   ],
   "source": [
    "fnames = []\n",
    "images = []\n",
    "\n",
    "for (dirpath, dirnames, filenames) in walk(wd):  \n",
    "    fnames.append(dirnames)\n",
    "    fnames.append(filenames)\n",
    "\n",
    "for file in fnames[-1]:\n",
    "    images.append(Image.open(fnames[0][-1] + \"/\" + file))\n",
    "    \n",
    "\"\"\"\n",
    "img = Image.open(\"images/G2DSC_0432.jpg\")\n",
    "img1 = Image.open(\"images/GDSC_0839.jpg\")\n",
    "img2 = Image.open(\"images/DSC_0793_edited.jpg\")\n",
    "imgbw = Image.open(\"images/DSC_0659.jpg\")\n",
    "imgblack = Image.open(\"images/DSC_0016.jpg\")\n",
    "imgwhite = Image.open(\"images/DSC_0017.jpg\")\n",
    "imgmix = Image.open(\"images/DSC_0018.jpg\")\n",
    "\"\"\""
   ]
  },
  {
   "cell_type": "code",
   "execution_count": 25,
   "metadata": {},
   "outputs": [],
   "source": [
    "def getexifdata(inputimage):\n",
    "    \n",
    "    exifdata = inputimage._getexif()\n",
    "\n",
    "    wantedtags = [\"ISOSpeedRatings\", \"FocalLength\", \"MaxApertureValue\", \n",
    "                  \"ExposureTime\", \"FNumber\", \"WhiteBalance\", \"MeteringMode\", \n",
    "                  \"LightSource\", \"Contrast\", \"Saturation\", \"Sharpness\"]\n",
    "    \n",
    "    fdata = {}\n",
    "\n",
    "    for tagid, data in exifdata.items():\n",
    "        name = TAGS.get(tagid, tagid)\n",
    "        \n",
    "        #print(name, tagid)\n",
    "\n",
    "        if name in wantedtags:\n",
    "            fdata[name] = data\n",
    "\n",
    "    return fdata"
   ]
  },
  {
   "cell_type": "code",
   "execution_count": 26,
   "metadata": {},
   "outputs": [],
   "source": [
    "outdata = []\n",
    "\n",
    "for img in images:\n",
    "    outdata.append(getexifdata(img))"
   ]
  },
  {
   "cell_type": "code",
   "execution_count": 11,
   "metadata": {},
   "outputs": [
    {
     "data": {
      "text/plain": [
       "{'MaxApertureValue': (30, 10),\n",
       " 'MeteringMode': 5,\n",
       " 'LightSource': 14,\n",
       " 'FocalLength': (400, 10),\n",
       " 'ExposureTime': (10, 16),\n",
       " 'FNumber': (28, 10),\n",
       " 'ISOSpeedRatings': 100,\n",
       " 'WhiteBalance': 1,\n",
       " 'Contrast': 0,\n",
       " 'Saturation': 0,\n",
       " 'Sharpness': 1}"
      ]
     },
     "execution_count": 11,
     "metadata": {},
     "output_type": "execute_result"
    }
   ],
   "source": [
    "#0 metering, 5pm\n",
    "outdata[0]"
   ]
  },
  {
   "cell_type": "code",
   "execution_count": 12,
   "metadata": {},
   "outputs": [
    {
     "data": {
      "text/plain": [
       "[{'MaxApertureValue': (30, 10),\n",
       "  'MeteringMode': 5,\n",
       "  'LightSource': 14,\n",
       "  'FocalLength': (400, 10),\n",
       "  'ExposureTime': (10, 30),\n",
       "  'FNumber': (45, 10),\n",
       "  'ISOSpeedRatings': 200,\n",
       "  'WhiteBalance': 1,\n",
       "  'Contrast': 0,\n",
       "  'Saturation': 0,\n",
       "  'Sharpness': 1},\n",
       " {'MaxApertureValue': (30, 10),\n",
       "  'MeteringMode': 5,\n",
       "  'LightSource': 14,\n",
       "  'FocalLength': (400, 10),\n",
       "  'ExposureTime': (10, 30),\n",
       "  'FNumber': (45, 10),\n",
       "  'ISOSpeedRatings': 400,\n",
       "  'WhiteBalance': 1,\n",
       "  'Contrast': 0,\n",
       "  'Saturation': 0,\n",
       "  'Sharpness': 1},\n",
       " {'MaxApertureValue': (30, 10),\n",
       "  'MeteringMode': 5,\n",
       "  'LightSource': 14,\n",
       "  'FocalLength': (400, 10),\n",
       "  'ExposureTime': (10, 30),\n",
       "  'FNumber': (45, 10),\n",
       "  'ISOSpeedRatings': 800,\n",
       "  'WhiteBalance': 1,\n",
       "  'Contrast': 0,\n",
       "  'Saturation': 0,\n",
       "  'Sharpness': 1}]"
      ]
     },
     "execution_count": 12,
     "metadata": {},
     "output_type": "execute_result"
    }
   ],
   "source": [
    "# iso 200 400 800\n",
    "outdata[1:4]"
   ]
  },
  {
   "cell_type": "code",
   "execution_count": 13,
   "metadata": {},
   "outputs": [
    {
     "data": {
      "text/plain": [
       "[{'MaxApertureValue': (30, 10),\n",
       "  'MeteringMode': 5,\n",
       "  'LightSource': 14,\n",
       "  'FocalLength': (400, 10),\n",
       "  'ExposureTime': (10, 30),\n",
       "  'FNumber': (28, 10),\n",
       "  'ISOSpeedRatings': 100,\n",
       "  'WhiteBalance': 1,\n",
       "  'Contrast': 0,\n",
       "  'Saturation': 0,\n",
       "  'Sharpness': 1},\n",
       " {'MaxApertureValue': (30, 10),\n",
       "  'MeteringMode': 5,\n",
       "  'LightSource': 14,\n",
       "  'FocalLength': (400, 10),\n",
       "  'ExposureTime': (10, 25),\n",
       "  'FNumber': (28, 10),\n",
       "  'ISOSpeedRatings': 100,\n",
       "  'WhiteBalance': 1,\n",
       "  'Contrast': 0,\n",
       "  'Saturation': 0,\n",
       "  'Sharpness': 1},\n",
       " {'MaxApertureValue': (30, 10),\n",
       "  'MeteringMode': 5,\n",
       "  'LightSource': 14,\n",
       "  'FocalLength': (400, 10),\n",
       "  'ExposureTime': (10, 20),\n",
       "  'FNumber': (28, 10),\n",
       "  'ISOSpeedRatings': 100,\n",
       "  'WhiteBalance': 1,\n",
       "  'Contrast': 0,\n",
       "  'Saturation': 0,\n",
       "  'Sharpness': 1},\n",
       " {'MaxApertureValue': (30, 10),\n",
       "  'MeteringMode': 5,\n",
       "  'LightSource': 14,\n",
       "  'FocalLength': (400, 10),\n",
       "  'ExposureTime': (10, 16),\n",
       "  'FNumber': (28, 10),\n",
       "  'ISOSpeedRatings': 100,\n",
       "  'WhiteBalance': 1,\n",
       "  'Contrast': 0,\n",
       "  'Saturation': 0,\n",
       "  'Sharpness': 1}]"
      ]
     },
     "execution_count": 13,
     "metadata": {},
     "output_type": "execute_result"
    }
   ],
   "source": [
    "# shutter\n",
    "outdata[4:]"
   ]
  },
  {
   "cell_type": "code",
   "execution_count": 15,
   "metadata": {},
   "outputs": [],
   "source": [
    "iso1 = np.asarray(images[1])\n",
    "iso2 = np.asarray(images[2])\n",
    "iso3 = np.asarray(images[3])"
   ]
  },
  {
   "cell_type": "code",
   "execution_count": 17,
   "metadata": {},
   "outputs": [],
   "source": [
    "def pmeans(array, averages):\n",
    "     for x in array[0]:\n",
    "         averages.append(x.mean())"
   ]
  },
  {
   "cell_type": "code",
   "execution_count": 19,
   "metadata": {},
   "outputs": [],
   "source": [
    "avgiso1 = []\n",
    "avgiso2 = []\n",
    "avgiso3 = []\n",
    "\n",
    "pmeans(iso1, avgiso1)\n",
    "pmeans(iso2, avgiso2)\n",
    "pmeans(iso3, avgiso3)"
   ]
  },
  {
   "cell_type": "code",
   "execution_count": 237,
   "metadata": {
    "scrolled": true
   },
   "outputs": [
    {
     "name": "stdout",
     "output_type": "stream",
     "text": [
      "3\n"
     ]
    },
    {
     "data": {
      "image/png": "[encoded data removed]",
      "text/plain": [
       "<Figure size 432x288 with 1 Axes>"
      ]
     },
     "metadata": {},
     "output_type": "display_data"
    },
    {
     "data": {
      "image/png": "[encoded data removed]",
      "text/plain": [
       "<Figure size 432x288 with 1 Axes>"
      ]
     },
     "metadata": {},
     "output_type": "display_data"
    },
    {
     "data": {
      "image/png": "[encoded data removed]",
      "text/plain": [
       "<Figure size 432x288 with 1 Axes>"
      ]
     },
     "metadata": {},
     "output_type": "display_data"
    }
   ],
   "source": [
    "def hist(averages):\n",
    "    \n",
    "    if isinstance(averages[0], list):\n",
    "        loop = len(averages)\n",
    "    else:\n",
    "        loop = 1\n",
    "        averages = [averages]\n",
    "        \n",
    "    print(loop)\n",
    "        \n",
    "    for x in range(loop):\n",
    "        \n",
    "        yax = [0, 400]\n",
    "        xax = [-50,300]\n",
    "\n",
    "        plt.hist(averages[x], bins = 100)\n",
    "        avgplot = plt.gca()\n",
    "        avgplot.set_ylim(yax)\n",
    "        avgplot.set_xlim(xax)\n",
    "        plt.show()\n",
    "\n",
    "hist([avgiso1, avgiso2, avgiso3])\n",
    "    \n",
    "# yax = [0, 400]\n",
    "# xax = [-50,300]\n",
    "\n",
    "# plt.hist(sorted(avgiso1), bins = 100)\n",
    "# avgplot = plt.gca()\n",
    "# avgplot.set_ylim(yax)\n",
    "# avgplot.set_xlim(xax)\n",
    "# plt.show()\n",
    "\n",
    "# plt.hist(sorted(avgiso2), bins = 100)\n",
    "# avgplot = plt.gca()\n",
    "# avgplot.set_ylim(yax)\n",
    "# avgplot.set_xlim(xax)\n",
    "# plt.show()\n",
    "\n",
    "# plt.hist(sorted(avgiso3), bins = 100)\n",
    "# avgplot = plt.gca()\n",
    "# avgplot.set_ylim(yax)\n",
    "# avgplot.set_xlim(xax)\n",
    "# plt.show()"
   ]
  },
  {
   "cell_type": "code",
   "execution_count": 28,
   "metadata": {},
   "outputs": [],
   "source": [
    "lightall = np.asarray(images[8])\n",
    "lightmain = np.asarray(images[9])\n",
    "lightnone = np.asarray(images[10])\n",
    "lightside = np.asarray(images[11])"
   ]
  },
  {
   "cell_type": "code",
   "execution_count": 187,
   "metadata": {},
   "outputs": [
    {
     "name": "stdout",
     "output_type": "stream",
     "text": [
      "200.77733333333003\n",
      "74.43555555555437\n",
      "2.6973310245999507\n"
     ]
    }
   ],
   "source": [
    "avglighta = []\n",
    "avglightm = []\n",
    "avglightn = []\n",
    "avglights = []\n",
    "\n",
    "pmeans(lightall, avglighta)\n",
    "pmeans(lightmain, avglightm)\n",
    "pmeans(lightnone, avglightn)\n",
    "pmeans(lightside, avglights)\n",
    "\n",
    "# avglightn = [x * 10 + 60 for x in avglightn]\n",
    "# avglights = [x * 2.7 for x in avglights]\n",
    "\n",
    "\n",
    "print(float(sum(avglighta)) / float(len(avglighta)))\n",
    "print(float(sum(avglights)) / float(len(avglights)))\n",
    "\n",
    "print((float(sum(avglighta)) / float(len(avglighta))) / (float(sum(avglights)) / float(len(avglights))))\n"
   ]
  },
  {
   "cell_type": "code",
   "execution_count": 188,
   "metadata": {},
   "outputs": [
    {
     "name": "stdout",
     "output_type": "stream",
     "text": [
      "4\n"
     ]
    },
    {
     "data": {
      "image/png": "[encoded data removed]",
      "text/plain": [
       "<Figure size 432x288 with 1 Axes>"
      ]
     },
     "metadata": {},
     "output_type": "display_data"
    },
    {
     "data": {
      "image/png": "[encoded data removed]",
      "text/plain": [
       "<Figure size 432x288 with 1 Axes>"
      ]
     },
     "metadata": {},
     "output_type": "display_data"
    },
    {
     "data": {
      "image/png": "[encoded data removed]",
      "text/plain": [
       "<Figure size 432x288 with 1 Axes>"
      ]
     },
     "metadata": {},
     "output_type": "display_data"
    },
    {
     "data": {
      "image/png": "[encoded data removed]",
      "text/plain": [
       "<Figure size 432x288 with 1 Axes>"
      ]
     },
     "metadata": {},
     "output_type": "display_data"
    }
   ],
   "source": [
    "hist([avglighta, avglightm, avglightn, avglights])\n",
    "\n",
    "\n",
    "# yax = [0, 400]\n",
    "# xax = [-50,300]\n",
    "\n",
    "# plt.hist(sorted(avglighta), bins = 100)\n",
    "# avgplot = plt.gca()\n",
    "# avgplot.set_ylim(yax)\n",
    "# avgplot.set_xlim(xax)\n",
    "# plt.show()\n",
    "\n",
    "# plt.hist(sorted(avglightm), bins = 100)\n",
    "# avgplot = plt.gca()\n",
    "# avgplot.set_ylim(yax)\n",
    "# avgplot.set_xlim(xax)\n",
    "# plt.show()\n",
    "\n",
    "# plt.hist(sorted(avglightn), bins = 100)\n",
    "# avgplot = plt.gca()\n",
    "# avgplot.set_ylim(yax)\n",
    "# avgplot.set_xlim(xax)\n",
    "# plt.show()\n",
    "\n",
    "# plt.hist(sorted(avglights), bins = 100)\n",
    "# avgplot = plt.gca()\n",
    "# avgplot.set_ylim(yax)\n",
    "# avgplot.set_xlim(xax)\n",
    "# plt.show()"
   ]
  },
  {
   "cell_type": "code",
   "execution_count": 212,
   "metadata": {},
   "outputs": [],
   "source": [
    "pixels = []\n",
    "\n",
    "def adjust(pixel, nums, scale):\n",
    "    nums.sort()\n",
    "    \n",
    "    pixels.append(pixel)\n",
    "    if nums[1] > pixel > nums[0]:\n",
    "        return pixel * scale\n",
    "    return pixel"
   ]
  },
  {
   "cell_type": "code",
   "execution_count": 228,
   "metadata": {},
   "outputs": [],
   "source": [
    "def editimage(image_in, scale, nums=[-1,257], show=True):\n",
    "    \n",
    "    assert isinstance(show, bool)\n",
    "    \n",
    "    out = image_in.point(lambda i: adjust(i, nums, scale))\n",
    "    \n",
    "    if show:\n",
    "        out.show()\n",
    "    else:\n",
    "        return out\n",
    "\n",
    "# out = images[1].point(lambda i: adjust(i))\n",
    "\n",
    "# #display image\n",
    "# out.show()"
   ]
  },
  {
   "cell_type": "code",
   "execution_count": 219,
   "metadata": {},
   "outputs": [],
   "source": [
    "editimage(images[1], 1.7, [30, 45])\n"
   ]
  },
  {
   "cell_type": "code",
   "execution_count": 220,
   "metadata": {},
   "outputs": [],
   "source": [
    "editimage(images[1], 1)"
   ]
  },
  {
   "cell_type": "code",
   "execution_count": 105,
   "metadata": {},
   "outputs": [],
   "source": [
    "# source = images[11].split()\n",
    "\n",
    "# R, G, B = 0, 1, 2\n",
    "\n",
    "# # select regions where red is less than 100\n",
    "# mask = source[R].point(lambda i: i < 100 and 255)\n",
    "\n",
    "# # process the green band\n",
    "# out = source[G].point(lambda i: i * 0.7)\n",
    "\n",
    "# # paste the processed band back, but only where red was < 100\n",
    "# source[G].paste(out, None, mask)\n",
    "\n",
    "# # build a new multiband image\n",
    "# im = Image.merge(images[11].mode, source)\n",
    "\n",
    "# im.show()"
   ]
  },
  {
   "cell_type": "code",
   "execution_count": null,
   "metadata": {},
   "outputs": [],
   "source": [
    "# check for average of maxes and mins to deterine if photo is over or under exposed\n",
    "# maybe just edit first photo and use histogram to adjust all sequential photos\n",
    "# "
   ]
  },
  {
   "cell_type": "code",
   "execution_count": 189,
   "metadata": {},
   "outputs": [],
   "source": [
    "def std(array):\n",
    "    arrlen = len(array)\n",
    "    arrsum = sum(array)\n",
    "    \n",
    "    arrmean = float(arrsum) / float(arrlen)\n",
    "    \n",
    "    arrdev = [(x - arrmean)**2 for x in array]\n",
    "    \n",
    "    arrstd = float(sum(arrdev)) / float(len(arrdev))\n",
    "    \n",
    "    return arrstd"
   ]
  },
  {
   "cell_type": "code",
   "execution_count": 190,
   "metadata": {},
   "outputs": [
    {
     "name": "stdout",
     "output_type": "stream",
     "text": [
      "4094.5877158518533\n",
      "4588.822976639017\n",
      "29.67258211111094\n",
      "885.1354395061694\n"
     ]
    }
   ],
   "source": [
    "print(std(avglighta))\n",
    "print(std(avglightm))\n",
    "print(std(avglightn))\n",
    "print(std(avglights))"
   ]
  },
  {
   "cell_type": "code",
   "execution_count": 245,
   "metadata": {},
   "outputs": [
    {
     "name": "stdout",
     "output_type": "stream",
     "text": [
      "1.3466922614280261\n",
      "0.9999999999999842\n",
      "[47.583126570456926, 55.21438271854907, 61.05004918473719, 67.33461307140131, 70.02799759425736]\n",
      "1\n"
     ]
    },
    {
     "data": {
      "image/png": "[encoded data removed]",
      "text/plain": [
       "<Figure size 432x288 with 1 Axes>"
      ]
     },
     "metadata": {},
     "output_type": "display_data"
    }
   ],
   "source": [
    "stdratio = std(avg0) / std(avglights)\n",
    "\n",
    "scaler = stdratio**0.5\n",
    "print(scaler)\n",
    "\n",
    "avglightscaled = [x * scaler for x in avglights]\n",
    "\n",
    "print(std(avg0) / std(avglightscaled))\n",
    "\n",
    "print(avglightscaled[0:5])\n",
    "\n",
    "hist(avglightscaled)\n",
    "\n",
    "editimage(images[11], scaler)"
   ]
  },
  {
   "cell_type": "code",
   "execution_count": 249,
   "metadata": {},
   "outputs": [
    {
     "name": "stdout",
     "output_type": "stream",
     "text": [
      "17\n"
     ]
    }
   ],
   "source": [
    "print(len(images))"
   ]
  },
  {
   "cell_type": "code",
   "execution_count": 251,
   "metadata": {},
   "outputs": [],
   "source": [
    "sunset1 = np.asarray(images[13])\n",
    "sunsetp1 = np.asarray(images[14])\n",
    "sunset2 = np.asarray(images[15])\n",
    "sunsetp2 = np.asarray(images[16])"
   ]
  },
  {
   "cell_type": "code",
   "execution_count": 260,
   "metadata": {},
   "outputs": [],
   "source": [
    "sunavg1 = []\n",
    "sunavgp1 = []\n",
    "sunavg2 = []\n",
    "sunavgp2 = []\n",
    "\n",
    "pmeans(sunset1, sunavg1)\n",
    "pmeans(sunsetp1, sunavgp1)\n",
    "pmeans(sunset2, sunavg2)\n",
    "pmeans(sunsetp2, sunavgp2)"
   ]
  },
  {
   "cell_type": "code",
   "execution_count": 275,
   "metadata": {},
   "outputs": [
    {
     "name": "stdout",
     "output_type": "stream",
     "text": [
      "1\n"
     ]
    },
    {
     "data": {
      "image/png": "[encoded data removed]",
      "text/plain": [
       "<Figure size 432x288 with 1 Axes>"
      ]
     },
     "metadata": {},
     "output_type": "display_data"
    }
   ],
   "source": [
    "# hist([sunavg1, sunavg2, sunavgp1, sunavgp2])\n",
    "\n",
    "hist([[sunavg2, sunavgp2]])"
   ]
  },
  {
   "cell_type": "code",
   "execution_count": 267,
   "metadata": {},
   "outputs": [
    {
     "name": "stdout",
     "output_type": "stream",
     "text": [
      "7509.333988268444\n",
      "6735.190521926078\n",
      "1.0559072398386946\n",
      "1.0000000000000093\n",
      "[266.08862443935107, 265.0327171995123, 264.6807481195661, 266.08862443935107, 266.4405935192973]\n",
      "1\n"
     ]
    },
    {
     "data": {
      "image/png": "[encoded data removed]",
      "text/plain": [
       "<Figure size 432x288 with 1 Axes>"
      ]
     },
     "metadata": {},
     "output_type": "display_data"
    }
   ],
   "source": [
    "print(std(sunavg2))\n",
    "print(std(sunavgp2))\n",
    "\n",
    "stdratio = std(sunavg2) / std(sunavgp2)\n",
    "\n",
    "scaler = stdratio**0.5\n",
    "print(scaler)\n",
    "\n",
    "avglightscaled = [x * scaler for x in sunavgp2]\n",
    "\n",
    "print(std(sunavg2) / std(avglightscaled))\n",
    "\n",
    "print(avglightscaled[0:5])\n",
    "\n",
    "hist(avglightscaled)\n",
    "\n",
    "editimage(images[16], scaler)"
   ]
  },
  {
   "cell_type": "code",
   "execution_count": null,
   "metadata": {},
   "outputs": [],
   "source": [
    "# #Notes\n",
    "\n",
    "# std dev is not enough, need more variables in alg\n",
    "\n",
    "# ideas:\n",
    "#     mean\n",
    "#     mode\n",
    "#     median\n",
    "#     x min and max\n",
    "#     y min and max\n",
    "#     local/smaller population size analysis\n",
    "#     log?\n",
    "#     IQR?\n",
    "#     somethign to do with violin plot?"
   ]
  },
  {
   "cell_type": "code",
   "execution_count": 162,
   "metadata": {},
   "outputs": [],
   "source": [
    "exp0 = np.asarray(images[0])\n",
    "exp1 = np.asarray(images[1])"
   ]
  },
  {
   "cell_type": "code",
   "execution_count": 171,
   "metadata": {},
   "outputs": [],
   "source": [
    "avg0 = []\n",
    "pmeans(exp0, avg0)\n",
    "\n",
    "avg01= []\n",
    "pmeans(exp1, avg01)\n",
    "\n",
    "avg01 = [x * 1.6 for x in avg01]"
   ]
  },
  {
   "cell_type": "code",
   "execution_count": 191,
   "metadata": {},
   "outputs": [
    {
     "name": "stdout",
     "output_type": "stream",
     "text": [
      "2\n"
     ]
    },
    {
     "data": {
      "image/png": "[encoded data removed]",
      "text/plain": [
       "<Figure size 432x288 with 1 Axes>"
      ]
     },
     "metadata": {},
     "output_type": "display_data"
    },
    {
     "data": {
      "image/png": "[encoded data removed]",
      "text/plain": [
       "<Figure size 432x288 with 1 Axes>"
      ]
     },
     "metadata": {},
     "output_type": "display_data"
    }
   ],
   "source": [
    "hist([avg0, avg01])"
   ]
  },
  {
   "cell_type": "code",
   "execution_count": null,
   "metadata": {},
   "outputs": [],
   "source": []
  },
  {
   "cell_type": "code",
   "execution_count": null,
   "metadata": {},
   "outputs": [],
   "source": []
  },
  {
   "cell_type": "code",
   "execution_count": 4,
   "metadata": {},
   "outputs": [],
   "source": [
    "\n",
    "# imarr = np.asarray(img)\n",
    "# imarr1 = np.asarray(img1)\n",
    "# imarr2 = np.asarray(img2)\n",
    "# imarrbw = np.asarray(imgbw)\n",
    "# imarrblack = np.asarray(imgblack)\n",
    "# imarrwhite = np.asarray(imgwhite)\n",
    "# imarrmix = np.asarray(imgmix)"
   ]
  },
  {
   "cell_type": "code",
   "execution_count": 5,
   "metadata": {},
   "outputs": [
    {
     "data": {
      "text/plain": [
       "(4000, 6000, 3)"
      ]
     },
     "execution_count": 5,
     "metadata": {},
     "output_type": "execute_result"
    }
   ],
   "source": [
    "# imarr.shape"
   ]
  },
  {
   "cell_type": "code",
   "execution_count": 6,
   "metadata": {},
   "outputs": [
    {
     "data": {
      "text/plain": [
       "array([45, 22, 16], dtype=uint8)"
      ]
     },
     "execution_count": 6,
     "metadata": {},
     "output_type": "execute_result"
    }
   ],
   "source": [
    "# imarr[3999,3999]"
   ]
  },
  {
   "cell_type": "code",
   "execution_count": 7,
   "metadata": {},
   "outputs": [],
   "source": [
    "# avg = []\n",
    "# avg1 = []\n",
    "# avg2 = []\n",
    "# avgbw = []\n",
    "# avgbl = []\n",
    "# avgwh = []\n",
    "# avgmx = []"
   ]
  },
  {
   "cell_type": "code",
   "execution_count": 8,
   "metadata": {},
   "outputs": [],
   "source": [
    "# def pmeans(array, averages):\n",
    "#     for x in array[0]:\n",
    "#         averages.append(x.mean())\n",
    "\n",
    "# pmeans(imarr, avg)\n",
    "# pmeans(imarr1, avg1)\n",
    "# pmeans(imarr2, avg2)\n",
    "# pmeans(imarrbw, avgbw)\n",
    "# pmeans(imarrblack, avgbl)\n",
    "# pmeans(imarrwhite, avgwh)\n",
    "# pmeans(imarrmix, avgmx)"
   ]
  },
  {
   "cell_type": "code",
   "execution_count": 9,
   "metadata": {},
   "outputs": [
    {
     "data": {
      "text/plain": [
       "255.0"
      ]
     },
     "execution_count": 9,
     "metadata": {},
     "output_type": "execute_result"
    }
   ],
   "source": [
    "# avgwh[1000]"
   ]
  },
  {
   "cell_type": "code",
   "execution_count": 10,
   "metadata": {},
   "outputs": [],
   "source": [
    "# for x in avg:\n",
    "#     if x == None:\n",
    "#         print(\"t\")"
   ]
  },
  {
   "cell_type": "code",
   "execution_count": 11,
   "metadata": {},
   "outputs": [
    {
     "data": {
      "image/png": "[encoded data removed]",
      "text/plain": [
       "<Figure size 432x288 with 1 Axes>"
      ]
     },
     "metadata": {},
     "output_type": "display_data"
    },
    {
     "data": {
      "image/png": "[encoded data removed]",
      "text/plain": [
       "<Figure size 432x288 with 1 Axes>"
      ]
     },
     "metadata": {},
     "output_type": "display_data"
    },
    {
     "data": {
      "image/png": "[encoded data removed]",
      "text/plain": [
       "<Figure size 432x288 with 1 Axes>"
      ]
     },
     "metadata": {},
     "output_type": "display_data"
    },
    {
     "data": {
      "image/png": "[encoded data removed]",
      "text/plain": [
       "<Figure size 432x288 with 1 Axes>"
      ]
     },
     "metadata": {},
     "output_type": "display_data"
    }
   ],
   "source": [
    "# #print(sorted(avg)[1:100])\n",
    "\n",
    "# yax = [0, 400]\n",
    "# xax = [-50,300]\n",
    "\n",
    "# plt.hist(sorted(avg), bins = 100)\n",
    "# avgplot = plt.gca()\n",
    "# avgplot.set_ylim(yax)\n",
    "# avgplot.set_xlim(xax)\n",
    "# plt.show()\n",
    "\n",
    "# plt.hist(sorted(avg1), bins = 100)\n",
    "# avgplot1 = plt.gca()\n",
    "# avgplot1.set_ylim(yax)\n",
    "# avgplot1.set_xlim(xax)\n",
    "# plt.show()\n",
    "\n",
    "# plt.hist(sorted(avg2), bins = 100)\n",
    "# avgplot2 = plt.gca()\n",
    "# avgplot2.set_ylim(yax)\n",
    "# avgplot2.set_xlim(xax)\n",
    "# plt.show()\n",
    "\n",
    "# plt.hist(sorted(avgbw), bins = 100)\n",
    "# avgplotbw = plt.gca()\n",
    "# avgplotbw.set_ylim(yax)\n",
    "# avgplotbw.set_xlim(xax)\n",
    "# plt.show()"
   ]
  },
  {
   "cell_type": "code",
   "execution_count": 12,
   "metadata": {},
   "outputs": [
    {
     "data": {
      "image/png": "[encoded data removed]",
      "text/plain": [
       "<Figure size 432x288 with 1 Axes>"
      ]
     },
     "metadata": {},
     "output_type": "display_data"
    },
    {
     "data": {
      "image/png": "[encoded data removed]",
      "text/plain": [
       "<Figure size 432x288 with 1 Axes>"
      ]
     },
     "metadata": {},
     "output_type": "display_data"
    },
    {
     "data": {
      "image/png": "[encoded data removed]",
      "text/plain": [
       "<Figure size 432x288 with 1 Axes>"
      ]
     },
     "metadata": {},
     "output_type": "display_data"
    }
   ],
   "source": [
    "# plt.hist(sorted(avgbl), bins = 5)\n",
    "# avgplotbl = plt.gca()\n",
    "# avgplotbl.set_ylim(yax)\n",
    "# avgplotbl.set_xlim(xax)\n",
    "# plt.show()\n",
    "\n",
    "# plt.hist(sorted(avgwh), bins = 5)\n",
    "# avgplotwh = plt.gca()\n",
    "# avgplotwh.set_ylim(yax)\n",
    "# avgplotwh.set_xlim(xax)\n",
    "# plt.show()\n",
    "\n",
    "# plt.hist(sorted(avgmx), bins = 100)\n",
    "# avgplotmx = plt.gca()\n",
    "# avgplotmx.set_ylim(yax)\n",
    "# avgplotmx.set_xlim(xax)\n",
    "# plt.show()"
   ]
  },
  {
   "cell_type": "code",
   "execution_count": 12,
   "metadata": {},
   "outputs": [],
   "source": [
    "# im = Image.fromarray(imarr)"
   ]
  },
  {
   "cell_type": "code",
   "execution_count": 13,
   "metadata": {},
   "outputs": [],
   "source": [
    "# a = np.array([1,2,3])"
   ]
  },
  {
   "cell_type": "code",
   "execution_count": 14,
   "metadata": {},
   "outputs": [
    {
     "data": {
      "text/plain": [
       "numpy.ndarray"
      ]
     },
     "execution_count": 14,
     "metadata": {},
     "output_type": "execute_result"
    }
   ],
   "source": [
    "# type(a)"
   ]
  },
  {
   "cell_type": "code",
   "execution_count": 23,
   "metadata": {},
   "outputs": [],
   "source": [
    "# out = img.point(lambda i: i**1.3)\n",
    "\n",
    "\n",
    "# #display image\n",
    "# out.show()"
   ]
  },
  {
   "cell_type": "code",
   "execution_count": 61,
   "metadata": {},
   "outputs": [],
   "source": [
    "# outdata = getexifdata(img)\n",
    "# outdata1 = getexifdata(img1)\n",
    "# outdata2 = getexifdata(img2)"
   ]
  },
  {
   "cell_type": "code",
   "execution_count": 62,
   "metadata": {},
   "outputs": [
    {
     "name": "stdout",
     "output_type": "stream",
     "text": [
      "{'MaxApertureValue': (38, 10), 'MeteringMode': 5, 'LightSource': 10, 'FocalLength': (220, 10), 'ExposureTime': (10, 80), 'FNumber': (220, 10), 'ISOSpeedRatings': 100, 'WhiteBalance': 1, 'Contrast': 0, 'Saturation': 0, 'Sharpness': 0}\n",
      "{'MaxApertureValue': (50, 10), 'MeteringMode': 5, 'LightSource': 0, 'FocalLength': (520, 10), 'ExposureTime': (10, 600), 'FNumber': (110, 10), 'ISOSpeedRatings': 100, 'WhiteBalance': 0, 'Contrast': 0, 'Saturation': 0, 'Sharpness': 0}\n",
      "{'MaxApertureValue': (50, 10), 'MeteringMode': 5, 'LightSource': 0, 'FocalLength': (520, 10), 'WhiteBalance': 0, 'Contrast': 0, 'Sharpness': 0, 'ExposureTime': (1, 100), 'FNumber': (56, 10), 'ISOSpeedRatings': 100, 'Saturation': 0}\n"
     ]
    }
   ],
   "source": [
    "# print(outdata)\n",
    "# print(outdata1)\n",
    "# print(outdata2)"
   ]
  },
  {
   "cell_type": "code",
   "execution_count": null,
   "metadata": {},
   "outputs": [],
   "source": []
  }
 ],
 "metadata": {
  "kernelspec": {
   "display_name": "Python 3",
   "language": "python",
   "name": "python3"
  },
  "language_info": {
   "codemirror_mode": {
    "name": "ipython",
    "version": 3
   },
   "file_extension": ".py",
   "mimetype": "text/x-python",
   "name": "python",
   "nbconvert_exporter": "python",
   "pygments_lexer": "ipython3",
   "version": "3.6.5"
  }
 },
 "nbformat": 4,
 "nbformat_minor": 2
}
