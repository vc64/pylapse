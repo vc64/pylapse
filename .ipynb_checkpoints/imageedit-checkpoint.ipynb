{
 "cells": [
  {
   "cell_type": "code",
   "execution_count": 103,
   "metadata": {},
   "outputs": [],
   "source": [
    "from PIL import Image, ImageEnhance, ExifTags\n",
    "from PIL.ExifTags import TAGS\n",
    "\n",
    "import numpy as np\n",
    "import matplotlib.pyplot as plt\n",
    "\n",
    "import re\n",
    "import os"
   ]
  },
  {
   "cell_type": "code",
   "execution_count": 104,
   "metadata": {},
   "outputs": [],
   "source": [
    "wd = os.getcwd()"
   ]
  },
  {
   "cell_type": "code",
   "execution_count": 105,
   "metadata": {},
   "outputs": [
    {
     "data": {
      "text/plain": [
       "'\\nimg = Image.open(\"images/G2DSC_0432.jpg\")\\nimg1 = Image.open(\"images/GDSC_0839.jpg\")\\nimg2 = Image.open(\"images/DSC_0793_edited.jpg\")\\nimgbw = Image.open(\"images/DSC_0659.jpg\")\\nimgblack = Image.open(\"images/DSC_0016.jpg\")\\nimgwhite = Image.open(\"images/DSC_0017.jpg\")\\nimgmix = Image.open(\"images/DSC_0018.jpg\")\\n'"
      ]
     },
     "execution_count": 105,
     "metadata": {},
     "output_type": "execute_result"
    }
   ],
   "source": [
    "fnames = []\n",
    "images = []\n",
    "\n",
    "for (dirpath, dirnames, filenames) in walk(wd):  \n",
    "    fnames.append(dirnames)\n",
    "    fnames.append(filenames)\n",
    "\n",
    "for file in fnames[-1]:\n",
    "    images.append(Image.open(fnames[0][-1] + \"/\" + file))\n",
    "\n",
    "\"\"\"\n",
    "img = Image.open(\"images/G2DSC_0432.jpg\")\n",
    "img1 = Image.open(\"images/GDSC_0839.jpg\")\n",
    "img2 = Image.open(\"images/DSC_0793_edited.jpg\")\n",
    "imgbw = Image.open(\"images/DSC_0659.jpg\")\n",
    "imgblack = Image.open(\"images/DSC_0016.jpg\")\n",
    "imgwhite = Image.open(\"images/DSC_0017.jpg\")\n",
    "imgmix = Image.open(\"images/DSC_0018.jpg\")\n",
    "\"\"\""
   ]
  },
  {
   "cell_type": "code",
   "execution_count": 106,
   "metadata": {},
   "outputs": [],
   "source": [
    "def getexifdata(inputimage):\n",
    "    \n",
    "    exifdata = inputimage._getexif()\n",
    "\n",
    "    wantedtags = [\"ISOSpeedRatings\", \"FocalLength\", \"MaxApertureValue\", \n",
    "                  \"ExposureTime\", \"FNumber\", \"WhiteBalance\", \"MeteringMode\", \n",
    "                  \"LightSource\", \"Contrast\", \"Saturation\", \"Sharpness\"]\n",
    "    \n",
    "    fdata = {}\n",
    "\n",
    "    for tagid, data in exifdata.items():\n",
    "        name = TAGS.get(tagid, tagid)\n",
    "        #print(name, tagid)\n",
    "\n",
    "        if name in wantedtags:\n",
    "            fdata[name] = data\n",
    "\n",
    "    return fdata"
   ]
  },
  {
   "cell_type": "code",
   "execution_count": 107,
   "metadata": {},
   "outputs": [],
   "source": [
    "outdata = []\n",
    "\n",
    "for img in images:\n",
    "    outdata.append(getexifdata(img))"
   ]
  },
  {
   "cell_type": "code",
   "execution_count": 108,
   "metadata": {},
   "outputs": [
    {
     "data": {
      "text/plain": [
       "[{'MaxApertureValue': (36, 10),\n",
       "  'MeteringMode': 5,\n",
       "  'LightSource': 0,\n",
       "  'FocalLength': (180, 10),\n",
       "  'ExposureTime': (16, 10),\n",
       "  'FNumber': (56, 10),\n",
       "  'ISOSpeedRatings': 100,\n",
       "  'WhiteBalance': 0,\n",
       "  'Contrast': 0,\n",
       "  'Saturation': 0,\n",
       "  'Sharpness': 1},\n",
       " {'MaxApertureValue': (50, 10),\n",
       "  'MeteringMode': 5,\n",
       "  'LightSource': 0,\n",
       "  'FocalLength': (550, 10),\n",
       "  'ExposureTime': (16, 10),\n",
       "  'FNumber': (56, 10),\n",
       "  'ISOSpeedRatings': 100,\n",
       "  'WhiteBalance': 0,\n",
       "  'Contrast': 0,\n",
       "  'Saturation': 0,\n",
       "  'Sharpness': 1},\n",
       " {'MaxApertureValue': (50, 10),\n",
       "  'MeteringMode': 5,\n",
       "  'LightSource': 0,\n",
       "  'FocalLength': (550, 10),\n",
       "  'ExposureTime': (16, 10),\n",
       "  'FNumber': (56, 10),\n",
       "  'ISOSpeedRatings': 100,\n",
       "  'WhiteBalance': 0,\n",
       "  'Contrast': 0,\n",
       "  'Saturation': 0,\n",
       "  'Sharpness': 1},\n",
       " {'MaxApertureValue': (43, 10),\n",
       "  'MeteringMode': 5,\n",
       "  'LightSource': 0,\n",
       "  'FocalLength': (320, 10),\n",
       "  'ExposureTime': (10, 150),\n",
       "  'FNumber': (80, 10),\n",
       "  'ISOSpeedRatings': 100,\n",
       "  'WhiteBalance': 0,\n",
       "  'Contrast': 0,\n",
       "  'Saturation': 0,\n",
       "  'Sharpness': 0},\n",
       " {'MaxApertureValue': (50, 10),\n",
       "  'MeteringMode': 5,\n",
       "  'LightSource': 0,\n",
       "  'FocalLength': (520, 10),\n",
       "  'WhiteBalance': 0,\n",
       "  'Contrast': 0,\n",
       "  'Sharpness': 0,\n",
       "  'ExposureTime': (1, 100),\n",
       "  'FNumber': (56, 10),\n",
       "  'ISOSpeedRatings': 100,\n",
       "  'Saturation': 0},\n",
       " {'MaxApertureValue': (50, 10),\n",
       "  'MeteringMode': 5,\n",
       "  'LightSource': 0,\n",
       "  'FocalLength': (550, 10),\n",
       "  'ExposureTime': (10, 1000),\n",
       "  'FNumber': (80, 10),\n",
       "  'ISOSpeedRatings': 100,\n",
       "  'WhiteBalance': 0,\n",
       "  'Contrast': 0,\n",
       "  'Saturation': 0,\n",
       "  'Sharpness': 0},\n",
       " {'MaxApertureValue': (50, 10),\n",
       "  'MeteringMode': 5,\n",
       "  'LightSource': 0,\n",
       "  'FocalLength': (550, 10),\n",
       "  'ExposureTime': (10, 600),\n",
       "  'FNumber': (63, 10),\n",
       "  'ISOSpeedRatings': 100,\n",
       "  'WhiteBalance': 0,\n",
       "  'Contrast': 0,\n",
       "  'Saturation': 0,\n",
       "  'Sharpness': 0},\n",
       " {'MaxApertureValue': (38, 10),\n",
       "  'MeteringMode': 5,\n",
       "  'LightSource': 10,\n",
       "  'FocalLength': (220, 10),\n",
       "  'ExposureTime': (10, 80),\n",
       "  'FNumber': (220, 10),\n",
       "  'ISOSpeedRatings': 100,\n",
       "  'WhiteBalance': 1,\n",
       "  'Contrast': 0,\n",
       "  'Saturation': 0,\n",
       "  'Sharpness': 0},\n",
       " {'MaxApertureValue': (50, 10),\n",
       "  'MeteringMode': 5,\n",
       "  'LightSource': 0,\n",
       "  'FocalLength': (520, 10),\n",
       "  'ExposureTime': (10, 600),\n",
       "  'FNumber': (110, 10),\n",
       "  'ISOSpeedRatings': 100,\n",
       "  'WhiteBalance': 0,\n",
       "  'Contrast': 0,\n",
       "  'Saturation': 0,\n",
       "  'Sharpness': 0}]"
      ]
     },
     "execution_count": 108,
     "metadata": {},
     "output_type": "execute_result"
    }
   ],
   "source": [
    "outdata"
   ]
  },
  {
   "cell_type": "code",
   "execution_count": 4,
   "metadata": {},
   "outputs": [],
   "source": [
    "# imarr = np.asarray(img)\n",
    "# imarr1 = np.asarray(img1)\n",
    "# imarr2 = np.asarray(img2)\n",
    "# imarrbw = np.asarray(imgbw)\n",
    "# imarrblack = np.asarray(imgblack)\n",
    "# imarrwhite = np.asarray(imgwhite)\n",
    "# imarrmix = np.asarray(imgmix)"
   ]
  },
  {
   "cell_type": "code",
   "execution_count": 5,
   "metadata": {},
   "outputs": [
    {
     "data": {
      "text/plain": [
       "(4000, 6000, 3)"
      ]
     },
     "execution_count": 5,
     "metadata": {},
     "output_type": "execute_result"
    }
   ],
   "source": [
    "# imarr.shape"
   ]
  },
  {
   "cell_type": "code",
   "execution_count": 6,
   "metadata": {},
   "outputs": [
    {
     "data": {
      "text/plain": [
       "array([45, 22, 16], dtype=uint8)"
      ]
     },
     "execution_count": 6,
     "metadata": {},
     "output_type": "execute_result"
    }
   ],
   "source": [
    "# imarr[3999,3999]"
   ]
  },
  {
   "cell_type": "code",
   "execution_count": 7,
   "metadata": {},
   "outputs": [],
   "source": [
    "# avg = []\n",
    "# avg1 = []\n",
    "# avg2 = []\n",
    "# avgbw = []\n",
    "# avgbl = []\n",
    "# avgwh = []\n",
    "# avgmx = []"
   ]
  },
  {
   "cell_type": "code",
   "execution_count": 8,
   "metadata": {},
   "outputs": [],
   "source": [
    "# def pmeans(array, averages):\n",
    "#     for x in array[0]:\n",
    "#         averages.append(x.mean())\n",
    "\n",
    "# pmeans(imarr, avg)\n",
    "# pmeans(imarr1, avg1)\n",
    "# pmeans(imarr2, avg2)\n",
    "# pmeans(imarrbw, avgbw)\n",
    "# pmeans(imarrblack, avgbl)\n",
    "# pmeans(imarrwhite, avgwh)\n",
    "# pmeans(imarrmix, avgmx)"
   ]
  },
  {
   "cell_type": "code",
   "execution_count": 9,
   "metadata": {},
   "outputs": [
    {
     "data": {
      "text/plain": [
       "255.0"
      ]
     },
     "execution_count": 9,
     "metadata": {},
     "output_type": "execute_result"
    }
   ],
   "source": [
    "# avgwh[1000]"
   ]
  },
  {
   "cell_type": "code",
   "execution_count": 10,
   "metadata": {},
   "outputs": [],
   "source": [
    "# for x in avg:\n",
    "#     if x == None:\n",
    "#         print(\"t\")"
   ]
  },
  {
   "cell_type": "code",
   "execution_count": 11,
   "metadata": {},
   "outputs": [
    {
     "data": {
      "image/png": "[encoded data removed]",
      "text/plain": [
       "<Figure size 432x288 with 1 Axes>"
      ]
     },
     "metadata": {},
     "output_type": "display_data"
    },
    {
     "data": {
      "image/png": "[encoded data removed]",
      "text/plain": [
       "<Figure size 432x288 with 1 Axes>"
      ]
     },
     "metadata": {},
     "output_type": "display_data"
    },
    {
     "data": {
      "image/png": "[encoded data removed]",
      "text/plain": [
       "<Figure size 432x288 with 1 Axes>"
      ]
     },
     "metadata": {},
     "output_type": "display_data"
    },
    {
     "data": {
      "image/png": "[encoded data removed]",
      "text/plain": [
       "<Figure size 432x288 with 1 Axes>"
      ]
     },
     "metadata": {},
     "output_type": "display_data"
    }
   ],
   "source": [
    "# #print(sorted(avg)[1:100])\n",
    "\n",
    "# yax = [0, 400]\n",
    "# xax = [-50,300]\n",
    "\n",
    "# plt.hist(sorted(avg), bins = 100)\n",
    "# avgplot = plt.gca()\n",
    "# avgplot.set_ylim(yax)\n",
    "# avgplot.set_xlim(xax)\n",
    "# plt.show()\n",
    "\n",
    "# plt.hist(sorted(avg1), bins = 100)\n",
    "# avgplot1 = plt.gca()\n",
    "# avgplot1.set_ylim(yax)\n",
    "# avgplot1.set_xlim(xax)\n",
    "# plt.show()\n",
    "\n",
    "# plt.hist(sorted(avg2), bins = 100)\n",
    "# avgplot2 = plt.gca()\n",
    "# avgplot2.set_ylim(yax)\n",
    "# avgplot2.set_xlim(xax)\n",
    "# plt.show()\n",
    "\n",
    "# plt.hist(sorted(avgbw), bins = 100)\n",
    "# avgplotbw = plt.gca()\n",
    "# avgplotbw.set_ylim(yax)\n",
    "# avgplotbw.set_xlim(xax)\n",
    "# plt.show()"
   ]
  },
  {
   "cell_type": "code",
   "execution_count": 12,
   "metadata": {},
   "outputs": [
    {
     "data": {
      "image/png": "[encoded data removed]",
      "text/plain": [
       "<Figure size 432x288 with 1 Axes>"
      ]
     },
     "metadata": {},
     "output_type": "display_data"
    },
    {
     "data": {
      "image/png": "[encoded data removed]",
      "text/plain": [
       "<Figure size 432x288 with 1 Axes>"
      ]
     },
     "metadata": {},
     "output_type": "display_data"
    },
    {
     "data": {
      "image/png": "[encoded data removed]",
      "text/plain": [
       "<Figure size 432x288 with 1 Axes>"
      ]
     },
     "metadata": {},
     "output_type": "display_data"
    }
   ],
   "source": [
    "# plt.hist(sorted(avgbl), bins = 5)\n",
    "# avgplotbl = plt.gca()\n",
    "# avgplotbl.set_ylim(yax)\n",
    "# avgplotbl.set_xlim(xax)\n",
    "# plt.show()\n",
    "\n",
    "# plt.hist(sorted(avgwh), bins = 5)\n",
    "# avgplotwh = plt.gca()\n",
    "# avgplotwh.set_ylim(yax)\n",
    "# avgplotwh.set_xlim(xax)\n",
    "# plt.show()\n",
    "\n",
    "# plt.hist(sorted(avgmx), bins = 100)\n",
    "# avgplotmx = plt.gca()\n",
    "# avgplotmx.set_ylim(yax)\n",
    "# avgplotmx.set_xlim(xax)\n",
    "# plt.show()"
   ]
  },
  {
   "cell_type": "code",
   "execution_count": 12,
   "metadata": {},
   "outputs": [],
   "source": [
    "# im = Image.fromarray(imarr)"
   ]
  },
  {
   "cell_type": "code",
   "execution_count": 13,
   "metadata": {},
   "outputs": [],
   "source": [
    "# a = np.array([1,2,3])"
   ]
  },
  {
   "cell_type": "code",
   "execution_count": 14,
   "metadata": {},
   "outputs": [
    {
     "data": {
      "text/plain": [
       "numpy.ndarray"
      ]
     },
     "execution_count": 14,
     "metadata": {},
     "output_type": "execute_result"
    }
   ],
   "source": [
    "# type(a)"
   ]
  },
  {
   "cell_type": "code",
   "execution_count": 23,
   "metadata": {},
   "outputs": [],
   "source": [
    "# out = img.point(lambda i: i**1.3)\n",
    "\n",
    "\n",
    "# #display image\n",
    "# out.show()"
   ]
  },
  {
   "cell_type": "code",
   "execution_count": 61,
   "metadata": {},
   "outputs": [],
   "source": [
    "# outdata = getexifdata(img)\n",
    "# outdata1 = getexifdata(img1)\n",
    "# outdata2 = getexifdata(img2)"
   ]
  },
  {
   "cell_type": "code",
   "execution_count": 62,
   "metadata": {},
   "outputs": [
    {
     "name": "stdout",
     "output_type": "stream",
     "text": [
      "{'MaxApertureValue': (38, 10), 'MeteringMode': 5, 'LightSource': 10, 'FocalLength': (220, 10), 'ExposureTime': (10, 80), 'FNumber': (220, 10), 'ISOSpeedRatings': 100, 'WhiteBalance': 1, 'Contrast': 0, 'Saturation': 0, 'Sharpness': 0}\n",
      "{'MaxApertureValue': (50, 10), 'MeteringMode': 5, 'LightSource': 0, 'FocalLength': (520, 10), 'ExposureTime': (10, 600), 'FNumber': (110, 10), 'ISOSpeedRatings': 100, 'WhiteBalance': 0, 'Contrast': 0, 'Saturation': 0, 'Sharpness': 0}\n",
      "{'MaxApertureValue': (50, 10), 'MeteringMode': 5, 'LightSource': 0, 'FocalLength': (520, 10), 'WhiteBalance': 0, 'Contrast': 0, 'Sharpness': 0, 'ExposureTime': (1, 100), 'FNumber': (56, 10), 'ISOSpeedRatings': 100, 'Saturation': 0}\n"
     ]
    }
   ],
   "source": [
    "# print(outdata)\n",
    "# print(outdata1)\n",
    "# print(outdata2)"
   ]
  },
  {
   "cell_type": "code",
   "execution_count": null,
   "metadata": {},
   "outputs": [],
   "source": []
  }
 ],
 "metadata": {
  "kernelspec": {
   "display_name": "Python 3",
   "language": "python",
   "name": "python3"
  },
  "language_info": {
   "codemirror_mode": {
    "name": "ipython",
    "version": 3
   },
   "file_extension": ".py",
   "mimetype": "text/x-python",
   "name": "python",
   "nbconvert_exporter": "python",
   "pygments_lexer": "ipython3",
   "version": "3.6.5"
  }
 },
 "nbformat": 4,
 "nbformat_minor": 2
}
